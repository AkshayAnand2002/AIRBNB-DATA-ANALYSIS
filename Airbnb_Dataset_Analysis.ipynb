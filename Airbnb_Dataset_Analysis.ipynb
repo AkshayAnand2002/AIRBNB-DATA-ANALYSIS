{
  "nbformat": 4,
  "nbformat_minor": 0,
  "metadata": {
    "colab": {
      "provenance": []
    },
    "kernelspec": {
      "name": "python3",
      "display_name": "Python 3"
    },
    "language_info": {
      "name": "python"
    }
  },
  "cells": [
    {
      "cell_type": "code",
      "execution_count": 1,
      "metadata": {
        "id": "aodNJr0VxL8T"
      },
      "outputs": [],
      "source": [
        "import numpy as np\n",
        "import pandas as pd\n",
        "import matplotlib.pyplot as plt\n",
        "import seaborn as sns"
      ]
    },
    {
      "cell_type": "code",
      "source": [
        "dataset=pd.read_csv('/content/Airbnb data.csv')"
      ],
      "metadata": {
        "id": "PYZzUcWk2Veb"
      },
      "execution_count": 2,
      "outputs": []
    },
    {
      "cell_type": "code",
      "source": [
        "dataset.head()"
      ],
      "metadata": {
        "colab": {
          "base_uri": "https://localhost:8080/",
          "height": 513
        },
        "id": "4--ILwbd2aU7",
        "outputId": "226e26e7-26b2-447c-ae23-ec804b1c44eb"
      },
      "execution_count": 3,
      "outputs": [
        {
          "output_type": "execute_result",
          "data": {
            "text/plain": [
              "    room_id  survey_id   host_id    room_type  country       city  borough  \\\n",
              "0  10176931       1476  49180562  Shared room      NaN  Amsterdam      NaN   \n",
              "1   8935871       1476  46718394  Shared room      NaN  Amsterdam      NaN   \n",
              "2  14011697       1476  10346595  Shared room      NaN  Amsterdam      NaN   \n",
              "3   6137978       1476   8685430  Shared room      NaN  Amsterdam      NaN   \n",
              "4  18630616       1476  70191803  Shared room      NaN  Amsterdam      NaN   \n",
              "\n",
              "              neighborhood  reviews  overall_satisfaction  accommodates  \\\n",
              "0  De Pijp / Rivierenbuurt        7                   4.5             2   \n",
              "1             Centrum West       45                   4.5             4   \n",
              "2          Watergraafsmeer        1                   0.0             3   \n",
              "3             Centrum West        7                   5.0             4   \n",
              "4   De Baarsjes / Oud West        1                   0.0             2   \n",
              "\n",
              "   bedrooms  bathrooms  price  minstay  \\\n",
              "0       1.0        NaN  156.0      NaN   \n",
              "1       1.0        NaN  126.0      NaN   \n",
              "2       1.0        NaN  132.0      NaN   \n",
              "3       1.0        NaN  121.0      NaN   \n",
              "4       1.0        NaN   93.0      NaN   \n",
              "\n",
              "                                             name               last_modified  \\\n",
              "0        Red Light/ Canal view apartment (Shared)  2017-07-23 13:06:27.391699   \n",
              "1  Sunny and Cozy Living room in quite neighbours  2017-07-23 13:06:23.607187   \n",
              "2                                       Amsterdam  2017-07-23 13:06:23.603546   \n",
              "3                    Canal boat RIDE in Amsterdam  2017-07-23 13:06:22.689787   \n",
              "4    One room for rent in a three room appartment  2017-07-23 13:06:19.681469   \n",
              "\n",
              "    latitude  longitude                                           location  \n",
              "0  52.356209   4.887491  0101000020E610000033FAD170CA8C13403BC5AA41982D...  \n",
              "1  52.378518   4.896120  0101000020E6100000842A357BA095134042791F477330...  \n",
              "2  52.338811   4.943592  0101000020E6100000A51133FB3CC613403543AA285E2B...  \n",
              "3  52.376319   4.890028  0101000020E6100000DF180280638F134085EE92382B30...  \n",
              "4  52.370384   4.852873  0101000020E6100000CD902A8A57691340187B2FBE682F...  "
            ],
            "text/html": [
              "\n",
              "  <div id=\"df-2410ca94-fb23-4258-aa79-89cdf70144af\">\n",
              "    <div class=\"colab-df-container\">\n",
              "      <div>\n",
              "<style scoped>\n",
              "    .dataframe tbody tr th:only-of-type {\n",
              "        vertical-align: middle;\n",
              "    }\n",
              "\n",
              "    .dataframe tbody tr th {\n",
              "        vertical-align: top;\n",
              "    }\n",
              "\n",
              "    .dataframe thead th {\n",
              "        text-align: right;\n",
              "    }\n",
              "</style>\n",
              "<table border=\"1\" class=\"dataframe\">\n",
              "  <thead>\n",
              "    <tr style=\"text-align: right;\">\n",
              "      <th></th>\n",
              "      <th>room_id</th>\n",
              "      <th>survey_id</th>\n",
              "      <th>host_id</th>\n",
              "      <th>room_type</th>\n",
              "      <th>country</th>\n",
              "      <th>city</th>\n",
              "      <th>borough</th>\n",
              "      <th>neighborhood</th>\n",
              "      <th>reviews</th>\n",
              "      <th>overall_satisfaction</th>\n",
              "      <th>accommodates</th>\n",
              "      <th>bedrooms</th>\n",
              "      <th>bathrooms</th>\n",
              "      <th>price</th>\n",
              "      <th>minstay</th>\n",
              "      <th>name</th>\n",
              "      <th>last_modified</th>\n",
              "      <th>latitude</th>\n",
              "      <th>longitude</th>\n",
              "      <th>location</th>\n",
              "    </tr>\n",
              "  </thead>\n",
              "  <tbody>\n",
              "    <tr>\n",
              "      <th>0</th>\n",
              "      <td>10176931</td>\n",
              "      <td>1476</td>\n",
              "      <td>49180562</td>\n",
              "      <td>Shared room</td>\n",
              "      <td>NaN</td>\n",
              "      <td>Amsterdam</td>\n",
              "      <td>NaN</td>\n",
              "      <td>De Pijp / Rivierenbuurt</td>\n",
              "      <td>7</td>\n",
              "      <td>4.5</td>\n",
              "      <td>2</td>\n",
              "      <td>1.0</td>\n",
              "      <td>NaN</td>\n",
              "      <td>156.0</td>\n",
              "      <td>NaN</td>\n",
              "      <td>Red Light/ Canal view apartment (Shared)</td>\n",
              "      <td>2017-07-23 13:06:27.391699</td>\n",
              "      <td>52.356209</td>\n",
              "      <td>4.887491</td>\n",
              "      <td>0101000020E610000033FAD170CA8C13403BC5AA41982D...</td>\n",
              "    </tr>\n",
              "    <tr>\n",
              "      <th>1</th>\n",
              "      <td>8935871</td>\n",
              "      <td>1476</td>\n",
              "      <td>46718394</td>\n",
              "      <td>Shared room</td>\n",
              "      <td>NaN</td>\n",
              "      <td>Amsterdam</td>\n",
              "      <td>NaN</td>\n",
              "      <td>Centrum West</td>\n",
              "      <td>45</td>\n",
              "      <td>4.5</td>\n",
              "      <td>4</td>\n",
              "      <td>1.0</td>\n",
              "      <td>NaN</td>\n",
              "      <td>126.0</td>\n",
              "      <td>NaN</td>\n",
              "      <td>Sunny and Cozy Living room in quite neighbours</td>\n",
              "      <td>2017-07-23 13:06:23.607187</td>\n",
              "      <td>52.378518</td>\n",
              "      <td>4.896120</td>\n",
              "      <td>0101000020E6100000842A357BA095134042791F477330...</td>\n",
              "    </tr>\n",
              "    <tr>\n",
              "      <th>2</th>\n",
              "      <td>14011697</td>\n",
              "      <td>1476</td>\n",
              "      <td>10346595</td>\n",
              "      <td>Shared room</td>\n",
              "      <td>NaN</td>\n",
              "      <td>Amsterdam</td>\n",
              "      <td>NaN</td>\n",
              "      <td>Watergraafsmeer</td>\n",
              "      <td>1</td>\n",
              "      <td>0.0</td>\n",
              "      <td>3</td>\n",
              "      <td>1.0</td>\n",
              "      <td>NaN</td>\n",
              "      <td>132.0</td>\n",
              "      <td>NaN</td>\n",
              "      <td>Amsterdam</td>\n",
              "      <td>2017-07-23 13:06:23.603546</td>\n",
              "      <td>52.338811</td>\n",
              "      <td>4.943592</td>\n",
              "      <td>0101000020E6100000A51133FB3CC613403543AA285E2B...</td>\n",
              "    </tr>\n",
              "    <tr>\n",
              "      <th>3</th>\n",
              "      <td>6137978</td>\n",
              "      <td>1476</td>\n",
              "      <td>8685430</td>\n",
              "      <td>Shared room</td>\n",
              "      <td>NaN</td>\n",
              "      <td>Amsterdam</td>\n",
              "      <td>NaN</td>\n",
              "      <td>Centrum West</td>\n",
              "      <td>7</td>\n",
              "      <td>5.0</td>\n",
              "      <td>4</td>\n",
              "      <td>1.0</td>\n",
              "      <td>NaN</td>\n",
              "      <td>121.0</td>\n",
              "      <td>NaN</td>\n",
              "      <td>Canal boat RIDE in Amsterdam</td>\n",
              "      <td>2017-07-23 13:06:22.689787</td>\n",
              "      <td>52.376319</td>\n",
              "      <td>4.890028</td>\n",
              "      <td>0101000020E6100000DF180280638F134085EE92382B30...</td>\n",
              "    </tr>\n",
              "    <tr>\n",
              "      <th>4</th>\n",
              "      <td>18630616</td>\n",
              "      <td>1476</td>\n",
              "      <td>70191803</td>\n",
              "      <td>Shared room</td>\n",
              "      <td>NaN</td>\n",
              "      <td>Amsterdam</td>\n",
              "      <td>NaN</td>\n",
              "      <td>De Baarsjes / Oud West</td>\n",
              "      <td>1</td>\n",
              "      <td>0.0</td>\n",
              "      <td>2</td>\n",
              "      <td>1.0</td>\n",
              "      <td>NaN</td>\n",
              "      <td>93.0</td>\n",
              "      <td>NaN</td>\n",
              "      <td>One room for rent in a three room appartment</td>\n",
              "      <td>2017-07-23 13:06:19.681469</td>\n",
              "      <td>52.370384</td>\n",
              "      <td>4.852873</td>\n",
              "      <td>0101000020E6100000CD902A8A57691340187B2FBE682F...</td>\n",
              "    </tr>\n",
              "  </tbody>\n",
              "</table>\n",
              "</div>\n",
              "      <button class=\"colab-df-convert\" onclick=\"convertToInteractive('df-2410ca94-fb23-4258-aa79-89cdf70144af')\"\n",
              "              title=\"Convert this dataframe to an interactive table.\"\n",
              "              style=\"display:none;\">\n",
              "        \n",
              "  <svg xmlns=\"http://www.w3.org/2000/svg\" height=\"24px\"viewBox=\"0 0 24 24\"\n",
              "       width=\"24px\">\n",
              "    <path d=\"M0 0h24v24H0V0z\" fill=\"none\"/>\n",
              "    <path d=\"M18.56 5.44l.94 2.06.94-2.06 2.06-.94-2.06-.94-.94-2.06-.94 2.06-2.06.94zm-11 1L8.5 8.5l.94-2.06 2.06-.94-2.06-.94L8.5 2.5l-.94 2.06-2.06.94zm10 10l.94 2.06.94-2.06 2.06-.94-2.06-.94-.94-2.06-.94 2.06-2.06.94z\"/><path d=\"M17.41 7.96l-1.37-1.37c-.4-.4-.92-.59-1.43-.59-.52 0-1.04.2-1.43.59L10.3 9.45l-7.72 7.72c-.78.78-.78 2.05 0 2.83L4 21.41c.39.39.9.59 1.41.59.51 0 1.02-.2 1.41-.59l7.78-7.78 2.81-2.81c.8-.78.8-2.07 0-2.86zM5.41 20L4 18.59l7.72-7.72 1.47 1.35L5.41 20z\"/>\n",
              "  </svg>\n",
              "      </button>\n",
              "      \n",
              "  <style>\n",
              "    .colab-df-container {\n",
              "      display:flex;\n",
              "      flex-wrap:wrap;\n",
              "      gap: 12px;\n",
              "    }\n",
              "\n",
              "    .colab-df-convert {\n",
              "      background-color: #E8F0FE;\n",
              "      border: none;\n",
              "      border-radius: 50%;\n",
              "      cursor: pointer;\n",
              "      display: none;\n",
              "      fill: #1967D2;\n",
              "      height: 32px;\n",
              "      padding: 0 0 0 0;\n",
              "      width: 32px;\n",
              "    }\n",
              "\n",
              "    .colab-df-convert:hover {\n",
              "      background-color: #E2EBFA;\n",
              "      box-shadow: 0px 1px 2px rgba(60, 64, 67, 0.3), 0px 1px 3px 1px rgba(60, 64, 67, 0.15);\n",
              "      fill: #174EA6;\n",
              "    }\n",
              "\n",
              "    [theme=dark] .colab-df-convert {\n",
              "      background-color: #3B4455;\n",
              "      fill: #D2E3FC;\n",
              "    }\n",
              "\n",
              "    [theme=dark] .colab-df-convert:hover {\n",
              "      background-color: #434B5C;\n",
              "      box-shadow: 0px 1px 3px 1px rgba(0, 0, 0, 0.15);\n",
              "      filter: drop-shadow(0px 1px 2px rgba(0, 0, 0, 0.3));\n",
              "      fill: #FFFFFF;\n",
              "    }\n",
              "  </style>\n",
              "\n",
              "      <script>\n",
              "        const buttonEl =\n",
              "          document.querySelector('#df-2410ca94-fb23-4258-aa79-89cdf70144af button.colab-df-convert');\n",
              "        buttonEl.style.display =\n",
              "          google.colab.kernel.accessAllowed ? 'block' : 'none';\n",
              "\n",
              "        async function convertToInteractive(key) {\n",
              "          const element = document.querySelector('#df-2410ca94-fb23-4258-aa79-89cdf70144af');\n",
              "          const dataTable =\n",
              "            await google.colab.kernel.invokeFunction('convertToInteractive',\n",
              "                                                     [key], {});\n",
              "          if (!dataTable) return;\n",
              "\n",
              "          const docLinkHtml = 'Like what you see? Visit the ' +\n",
              "            '<a target=\"_blank\" href=https://colab.research.google.com/notebooks/data_table.ipynb>data table notebook</a>'\n",
              "            + ' to learn more about interactive tables.';\n",
              "          element.innerHTML = '';\n",
              "          dataTable['output_type'] = 'display_data';\n",
              "          await google.colab.output.renderOutput(dataTable, element);\n",
              "          const docLink = document.createElement('div');\n",
              "          docLink.innerHTML = docLinkHtml;\n",
              "          element.appendChild(docLink);\n",
              "        }\n",
              "      </script>\n",
              "    </div>\n",
              "  </div>\n",
              "  "
            ]
          },
          "metadata": {},
          "execution_count": 3
        }
      ]
    },
    {
      "cell_type": "code",
      "source": [
        "#no. of missing values\n",
        "dataset.isnull().sum()"
      ],
      "metadata": {
        "colab": {
          "base_uri": "https://localhost:8080/"
        },
        "id": "xG8gL00t2d0Y",
        "outputId": "28da6935-3a89-469f-867e-7e6df062cd41"
      },
      "execution_count": 4,
      "outputs": [
        {
          "output_type": "execute_result",
          "data": {
            "text/plain": [
              "room_id                     0\n",
              "survey_id                   0\n",
              "host_id                     0\n",
              "room_type                   0\n",
              "country                 18723\n",
              "city                        0\n",
              "borough                 18723\n",
              "neighborhood                0\n",
              "reviews                     0\n",
              "overall_satisfaction        0\n",
              "accommodates                0\n",
              "bedrooms                    0\n",
              "bathrooms               18723\n",
              "price                       0\n",
              "minstay                 18723\n",
              "name                       52\n",
              "last_modified               0\n",
              "latitude                    0\n",
              "longitude                   0\n",
              "location                    0\n",
              "dtype: int64"
            ]
          },
          "metadata": {},
          "execution_count": 4
        }
      ]
    },
    {
      "cell_type": "code",
      "source": [
        "dataset.shape"
      ],
      "metadata": {
        "colab": {
          "base_uri": "https://localhost:8080/"
        },
        "id": "TnYljVTr2p2w",
        "outputId": "9a0105f6-3a5e-4027-f212-fd8bc3f7e270"
      },
      "execution_count": 5,
      "outputs": [
        {
          "output_type": "execute_result",
          "data": {
            "text/plain": [
              "(18723, 20)"
            ]
          },
          "metadata": {},
          "execution_count": 5
        }
      ]
    },
    {
      "cell_type": "code",
      "source": [
        "#The columns country,borough,bathrooms and minstay are completely null.\n",
        "#so we drop them.\n",
        "dataset.drop(columns=['country','borough','bathrooms','minstay'],inplace=True)"
      ],
      "metadata": {
        "id": "LU3_4j_O3lGO"
      },
      "execution_count": 6,
      "outputs": []
    },
    {
      "cell_type": "code",
      "source": [
        "dataset.isnull().sum()"
      ],
      "metadata": {
        "colab": {
          "base_uri": "https://localhost:8080/"
        },
        "id": "kcY615Fo4JeR",
        "outputId": "3b63f45f-b2e5-4078-cef8-079c4f149524"
      },
      "execution_count": 7,
      "outputs": [
        {
          "output_type": "execute_result",
          "data": {
            "text/plain": [
              "room_id                  0\n",
              "survey_id                0\n",
              "host_id                  0\n",
              "room_type                0\n",
              "city                     0\n",
              "neighborhood             0\n",
              "reviews                  0\n",
              "overall_satisfaction     0\n",
              "accommodates             0\n",
              "bedrooms                 0\n",
              "price                    0\n",
              "name                    52\n",
              "last_modified            0\n",
              "latitude                 0\n",
              "longitude                0\n",
              "location                 0\n",
              "dtype: int64"
            ]
          },
          "metadata": {},
          "execution_count": 7
        }
      ]
    },
    {
      "cell_type": "code",
      "source": [
        "#name and other columns have very less null values.\n",
        "#so we drop the rows corresponding to these null values.\n",
        "dataset.dropna(inplace=True)"
      ],
      "metadata": {
        "id": "3mJmv7ka4MPm"
      },
      "execution_count": 8,
      "outputs": []
    },
    {
      "cell_type": "code",
      "source": [
        "dataset.isnull().sum()"
      ],
      "metadata": {
        "colab": {
          "base_uri": "https://localhost:8080/"
        },
        "id": "7fU9Sduv4f9X",
        "outputId": "d571e4d2-a4f1-4f2f-924c-cd5b33d77e26"
      },
      "execution_count": 9,
      "outputs": [
        {
          "output_type": "execute_result",
          "data": {
            "text/plain": [
              "room_id                 0\n",
              "survey_id               0\n",
              "host_id                 0\n",
              "room_type               0\n",
              "city                    0\n",
              "neighborhood            0\n",
              "reviews                 0\n",
              "overall_satisfaction    0\n",
              "accommodates            0\n",
              "bedrooms                0\n",
              "price                   0\n",
              "name                    0\n",
              "last_modified           0\n",
              "latitude                0\n",
              "longitude               0\n",
              "location                0\n",
              "dtype: int64"
            ]
          },
          "metadata": {},
          "execution_count": 9
        }
      ]
    },
    {
      "cell_type": "code",
      "source": [
        "#now there are no missing values in the dataset."
      ],
      "metadata": {
        "id": "5afgGx_f4iiq"
      },
      "execution_count": 10,
      "outputs": []
    },
    {
      "cell_type": "code",
      "source": [
        "rooms=dataset['room_type'].value_counts()"
      ],
      "metadata": {
        "id": "tt5KLVkC4ogB"
      },
      "execution_count": 11,
      "outputs": []
    },
    {
      "cell_type": "code",
      "source": [
        "rooms"
      ],
      "metadata": {
        "colab": {
          "base_uri": "https://localhost:8080/"
        },
        "id": "hs8JNV196DK9",
        "outputId": "15ac3956-54e2-46c4-a2fc-6fd4d373abf3"
      },
      "execution_count": 12,
      "outputs": [
        {
          "output_type": "execute_result",
          "data": {
            "text/plain": [
              "Entire home/apt    14937\n",
              "Private room        3671\n",
              "Shared room           63\n",
              "Name: room_type, dtype: int64"
            ]
          },
          "metadata": {},
          "execution_count": 12
        }
      ]
    },
    {
      "cell_type": "code",
      "source": [
        "#visualize using pie chart\n",
        "\n",
        "labels = ['Entire home/apt','Private room','Shared room']\n",
        "\n",
        "explode = (0.1, 0, 0)  # only \"explode\" the 1st slice \n",
        "\n",
        "fig1, ax1 = plt.subplots()\n",
        "ax1.pie(rooms, explode=explode, labels=labels, autopct='%1.1f%%',\n",
        "        shadow=True, startangle=90)\n",
        "ax1.axis('equal')  # Equal aspect ratio ensures that pie is drawn as a circle.\n",
        "\n",
        "plt.show()"
      ],
      "metadata": {
        "colab": {
          "base_uri": "https://localhost:8080/",
          "height": 253
        },
        "id": "oNjoVKW_6EOh",
        "outputId": "a314be3a-5e48-4905-e33b-a6c451a4bcf0"
      },
      "execution_count": 13,
      "outputs": [
        {
          "output_type": "display_data",
          "data": {
            "text/plain": [
              "<Figure size 432x288 with 1 Axes>"
            ],
            "image/png": "[encoded data removed]"
          },
          "metadata": {}
        }
      ]
    },
    {
      "cell_type": "code",
      "source": [
        "#Shared room is just 0.3 % of all the room types.\n",
        "#Guests prefer entire home or apartment much more than the shared rooms and private rooms."
      ],
      "metadata": {
        "id": "dL4lGXzz7UHP"
      },
      "execution_count": 14,
      "outputs": []
    },
    {
      "cell_type": "code",
      "source": [
        "#finding the neighbourhood which has the most occurence in the dataset.\n",
        "dataset['neighborhood'].value_counts()"
      ],
      "metadata": {
        "colab": {
          "base_uri": "https://localhost:8080/"
        },
        "id": "P1bhSun67wDq",
        "outputId": "f132782f-d9a4-4ff1-fc99-a7f654cecf82"
      },
      "execution_count": 15,
      "outputs": [
        {
          "output_type": "execute_result",
          "data": {
            "text/plain": [
              "De Baarsjes / Oud West                    3276\n",
              "De Pijp / Rivierenbuurt                   2371\n",
              "Centrum West                              2216\n",
              "Centrum Oost                              1727\n",
              "Westerpark                                1428\n",
              "Noord-West / Noord-Midden                 1415\n",
              "Oud Oost                                  1166\n",
              "Bos en Lommer                              983\n",
              "Oostelijk Havengebied / Indische Buurt     920\n",
              "Watergraafsmeer                            514\n",
              "Oud Noord                                  494\n",
              "Ijburg / Eiland Zeeburg                    377\n",
              "Slotervaart                                348\n",
              "Buitenveldert / Zuidas                     250\n",
              "Noord West                                 240\n",
              "Noord Oost                                 221\n",
              "Geuzenveld / Slotermeer                    195\n",
              "Osdorp                                     163\n",
              "De Aker / Nieuw Sloten                     114\n",
              "Bijlmer Centrum                             99\n",
              "Bijlmer Oost                                97\n",
              "Gaasperdam / Driemond                       42\n",
              "Westpoort                                   15\n",
              "Name: neighborhood, dtype: int64"
            ]
          },
          "metadata": {},
          "execution_count": 15
        }
      ]
    },
    {
      "cell_type": "code",
      "source": [
        "neighborhood_count=dataset['neighborhood'].value_counts().to_list()\n",
        "figure=plt.figure(figsize=[30,20])\n",
        "plt.bar(dataset['neighborhood'].value_counts().index,neighborhood_count,color='yellow')\n",
        "plt.xticks(rotation=90,ha='right')\n",
        "plt.xlabel('Neighborhood names')\n",
        "plt.ylabel('Counts')"
      ],
      "metadata": {
        "colab": {
          "base_uri": "https://localhost:8080/",
          "height": 996
        },
        "id": "1CviZXBY75O0",
        "outputId": "8b833b66-ff2b-4e16-f607-f421fe3856a9"
      },
      "execution_count": 16,
      "outputs": [
        {
          "output_type": "execute_result",
          "data": {
            "text/plain": [
              "Text(0, 0.5, 'Counts')"
            ]
          },
          "metadata": {},
          "execution_count": 16
        },
        {
          "output_type": "display_data",
          "data": {
            "text/plain": [
              "<Figure size 2160x1440 with 1 Axes>"
            ],
            "image/png": "[encoded data removed]"
          },
          "metadata": {
            "needs_background": "light"
          }
        }
      ]
    },
    {
      "cell_type": "code",
      "source": [
        "#From the graph we can see that De Baarsjes / Oud West has the most count or is the\n",
        "#most popular.\n",
        "#Westpoort has the least count or the least popularity."
      ],
      "metadata": {
        "id": "3zFYDzqZ9FCp"
      },
      "execution_count": 17,
      "outputs": []
    },
    {
      "cell_type": "code",
      "source": [
        "dataset['reviews'].value_counts()"
      ],
      "metadata": {
        "colab": {
          "base_uri": "https://localhost:8080/"
        },
        "id": "HFJ4Hxxc-AN-",
        "outputId": "ece5b1f4-2539-4397-e3fc-68ac2946649e"
      },
      "execution_count": 18,
      "outputs": [
        {
          "output_type": "execute_result",
          "data": {
            "text/plain": [
              "0      2973\n",
              "1      1504\n",
              "2      1240\n",
              "3      1099\n",
              "4       924\n",
              "       ... \n",
              "191       1\n",
              "334       1\n",
              "309       1\n",
              "235       1\n",
              "188       1\n",
              "Name: reviews, Length: 283, dtype: int64"
            ]
          },
          "metadata": {},
          "execution_count": 18
        }
      ]
    },
    {
      "cell_type": "code",
      "source": [
        "reviews_count=pd.Series(dataset['reviews'].value_counts())\n",
        "pd.set_option(\"display.max_rows\",None,\"display.max_columns\",None)\n",
        "#print(reviews_count)"
      ],
      "metadata": {
        "id": "cFmS38Wy-aDm"
      },
      "execution_count": 19,
      "outputs": []
    },
    {
      "cell_type": "code",
      "source": [
        "#plotting histogram for showing count for each review.\n",
        "reviews_count.hist(bins=40)"
      ],
      "metadata": {
        "colab": {
          "base_uri": "https://localhost:8080/",
          "height": 283
        },
        "id": "ZT_AuvJk_Ekq",
        "outputId": "a3536231-3737-4a52-e945-c9e33f657d27"
      },
      "execution_count": 20,
      "outputs": [
        {
          "output_type": "execute_result",
          "data": {
            "text/plain": [
              "<matplotlib.axes._subplots.AxesSubplot at 0x7f942c996e80>"
            ]
          },
          "metadata": {},
          "execution_count": 20
        },
        {
          "output_type": "display_data",
          "data": {
            "text/plain": [
              "<Figure size 432x288 with 1 Axes>"
            ],
            "image/png": "[encoded data removed]"
          },
          "metadata": {
            "needs_background": "light"
          }
        }
      ]
    },
    {
      "cell_type": "code",
      "source": [
        "#from the above data and histogram we find that count of reviews 0 to 20 are\n",
        "#comparatively higher than other values."
      ],
      "metadata": {
        "id": "sBschbCe_fIL"
      },
      "execution_count": 21,
      "outputs": []
    },
    {
      "cell_type": "code",
      "source": [
        "dataset['overall_satisfaction'].value_counts()"
      ],
      "metadata": {
        "colab": {
          "base_uri": "https://localhost:8080/"
        },
        "id": "US2lV-myAGmA",
        "outputId": "f2b743fe-0100-424c-860f-ecc8a84bd38b"
      },
      "execution_count": 22,
      "outputs": [
        {
          "output_type": "execute_result",
          "data": {
            "text/plain": [
              "5.0    7693\n",
              "0.0    5725\n",
              "4.5    4546\n",
              "4.0     576\n",
              "3.5     109\n",
              "3.0      19\n",
              "1.5       1\n",
              "2.5       1\n",
              "1.0       1\n",
              "Name: overall_satisfaction, dtype: int64"
            ]
          },
          "metadata": {},
          "execution_count": 22
        }
      ]
    },
    {
      "cell_type": "code",
      "source": [
        "#from above we get the overall satisfaction count w.r.to ratings."
      ],
      "metadata": {
        "id": "l205fZ5iAQMA"
      },
      "execution_count": 23,
      "outputs": []
    },
    {
      "cell_type": "code",
      "source": [
        "fig=plt.figure(figsize=[20,10])\n",
        "plt.bar(dataset['overall_satisfaction'].value_counts().index,dataset['overall_satisfaction'].value_counts().to_list(),color='red',width=0.3)\n",
        "plt.xlabel('Satisfaction Rating')\n",
        "plt.ylabel('Rating Count')\n",
        "plt.title(\"Overall Satisfaction Count VS Rating\")"
      ],
      "metadata": {
        "colab": {
          "base_uri": "https://localhost:8080/",
          "height": 639
        },
        "id": "NzmbWRbyAbwU",
        "outputId": "01705e9a-83b0-4d54-906c-00090df9e9a8"
      },
      "execution_count": 24,
      "outputs": [
        {
          "output_type": "execute_result",
          "data": {
            "text/plain": [
              "Text(0.5, 1.0, 'Overall Satisfaction Count VS Rating')"
            ]
          },
          "metadata": {},
          "execution_count": 24
        },
        {
          "output_type": "display_data",
          "data": {
            "text/plain": [
              "<Figure size 1440x720 with 1 Axes>"
            ],
            "image/png": "[encoded data removed]"
          },
          "metadata": {
            "needs_background": "light"
          }
        }
      ]
    },
    {
      "cell_type": "code",
      "source": [
        "#from the dataset and graph above we find that Satisfaction rating 5.0 has the \n",
        "#maximum count i.e. a large community of people are satisfied by the services\n",
        "#provided by Airbnb."
      ],
      "metadata": {
        "id": "sua8wgvpBdWU"
      },
      "execution_count": 25,
      "outputs": []
    },
    {
      "cell_type": "code",
      "source": [
        "#count of accomodation values\n",
        "accomodation_counts=dataset['accommodates'].value_counts()\n",
        "accomodation_counts"
      ],
      "metadata": {
        "colab": {
          "base_uri": "https://localhost:8080/"
        },
        "id": "c0SFBsmDCaJK",
        "outputId": "e2c1ccb9-4876-4432-baee-526480be72c7"
      },
      "execution_count": 26,
      "outputs": [
        {
          "output_type": "execute_result",
          "data": {
            "text/plain": [
              "2     9991\n",
              "4     5571\n",
              "3     1579\n",
              "6      473\n",
              "5      471\n",
              "1      365\n",
              "8      105\n",
              "7       52\n",
              "16      20\n",
              "10      16\n",
              "12      10\n",
              "9        8\n",
              "14       6\n",
              "11       2\n",
              "13       1\n",
              "17       1\n",
              "Name: accommodates, dtype: int64"
            ]
          },
          "metadata": {},
          "execution_count": 26
        }
      ]
    },
    {
      "cell_type": "code",
      "source": [
        "size=accomodation_counts.to_list()\n",
        "labels=accomodation_counts.index\n",
        "plt.bar(labels,size,width=0.7,color='green')\n",
        "plt.xlabel(\"Accomodation\")\n",
        "plt.ylabel(\"Count\")\n",
        "plt.title(\"Count of each accomodation value.\")\n",
        "plt.show()"
      ],
      "metadata": {
        "colab": {
          "base_uri": "https://localhost:8080/",
          "height": 295
        },
        "id": "-V5MOj3wDJPF",
        "outputId": "fdc38768-2010-4cb8-aa1f-8555dbd74b73"
      },
      "execution_count": 27,
      "outputs": [
        {
          "output_type": "display_data",
          "data": {
            "text/plain": [
              "<Figure size 432x288 with 1 Axes>"
            ],
            "image/png": "[encoded data removed]"
          },
          "metadata": {
            "needs_background": "light"
          }
        }
      ]
    },
    {
      "cell_type": "code",
      "source": [
        "#from above we can see that the most available accomodations are 2 and 4."
      ],
      "metadata": {
        "id": "hlFTqe5nFNje"
      },
      "execution_count": 28,
      "outputs": []
    },
    {
      "cell_type": "code",
      "source": [
        "#most properties available.\n",
        "most_prop_available=dataset['price'].value_counts()\n",
        "#print(most_prop_available)"
      ],
      "metadata": {
        "id": "tzBWMgJXGE9q"
      },
      "execution_count": 29,
      "outputs": []
    },
    {
      "cell_type": "code",
      "source": [
        "graph={'Price':most_prop_available.index.to_list(),'Properties Available':most_prop_available.to_list()}\n",
        "most_prop_available_df=pd.DataFrame(graph)\n",
        "#most_prop_available_df"
      ],
      "metadata": {
        "id": "dA58leS6Gub8"
      },
      "execution_count": 30,
      "outputs": []
    },
    {
      "cell_type": "code",
      "source": [
        "#from the dataframe above we can conclude that price = 180 has the maximimum properties."
      ],
      "metadata": {
        "id": "88RKQL-6GxZx"
      },
      "execution_count": 31,
      "outputs": []
    },
    {
      "cell_type": "code",
      "source": [
        "#info of dataset\n",
        "dataset.info()"
      ],
      "metadata": {
        "colab": {
          "base_uri": "https://localhost:8080/"
        },
        "id": "yqyNnJ1kIunq",
        "outputId": "7a0b2104-3f5a-4788-dbcb-3346e5615a79"
      },
      "execution_count": 32,
      "outputs": [
        {
          "output_type": "stream",
          "name": "stdout",
          "text": [
            "<class 'pandas.core.frame.DataFrame'>\n",
            "Int64Index: 18671 entries, 0 to 18722\n",
            "Data columns (total 16 columns):\n",
            " #   Column                Non-Null Count  Dtype  \n",
            "---  ------                --------------  -----  \n",
            " 0   room_id               18671 non-null  int64  \n",
            " 1   survey_id             18671 non-null  int64  \n",
            " 2   host_id               18671 non-null  int64  \n",
            " 3   room_type             18671 non-null  object \n",
            " 4   city                  18671 non-null  object \n",
            " 5   neighborhood          18671 non-null  object \n",
            " 6   reviews               18671 non-null  int64  \n",
            " 7   overall_satisfaction  18671 non-null  float64\n",
            " 8   accommodates          18671 non-null  int64  \n",
            " 9   bedrooms              18671 non-null  float64\n",
            " 10  price                 18671 non-null  float64\n",
            " 11  name                  18671 non-null  object \n",
            " 12  last_modified         18671 non-null  object \n",
            " 13  latitude              18671 non-null  float64\n",
            " 14  longitude             18671 non-null  float64\n",
            " 15  location              18671 non-null  object \n",
            "dtypes: float64(5), int64(5), object(6)\n",
            "memory usage: 2.4+ MB\n"
          ]
        }
      ]
    },
    {
      "cell_type": "code",
      "source": [
        "#checking relationship between price and reviews.\n",
        "plt.plot(dataset['reviews'],dataset['price'],marker='o',c='green',linewidth=0.5)\n",
        "plt.xlabel(\"Reviews\")\n",
        "plt.ylabel(\"Price\")\n",
        "plt.title(\"Relationship between Price and Reviews\")"
      ],
      "metadata": {
        "colab": {
          "base_uri": "https://localhost:8080/",
          "height": 313
        },
        "id": "Qt4rgpQCLSM7",
        "outputId": "46ea8190-8b4a-40b1-8226-af1ff706994b"
      },
      "execution_count": 33,
      "outputs": [
        {
          "output_type": "execute_result",
          "data": {
            "text/plain": [
              "Text(0.5, 1.0, 'Relationship between Price and Reviews')"
            ]
          },
          "metadata": {},
          "execution_count": 33
        },
        {
          "output_type": "display_data",
          "data": {
            "text/plain": [
              "<Figure size 432x288 with 1 Axes>"
            ],
            "image/png": "[encoded data removed]"
          },
          "metadata": {
            "needs_background": "light"
          }
        }
      ]
    },
    {
      "cell_type": "code",
      "source": [
        "#finding correlation\n",
        "from scipy.stats import pearsonr\n",
        "correlation,_=pearsonr(dataset['reviews'],dataset['price'])\n",
        "print('Pearson Correlation: %3f'%correlation)"
      ],
      "metadata": {
        "colab": {
          "base_uri": "https://localhost:8080/"
        },
        "id": "u6zc_2YcL67h",
        "outputId": "2846e0ef-cddf-4fbf-d0ed-20d5d6edd6f7"
      },
      "execution_count": 34,
      "outputs": [
        {
          "output_type": "stream",
          "name": "stdout",
          "text": [
            "Pearson Correlation: -0.084839\n"
          ]
        }
      ]
    },
    {
      "cell_type": "code",
      "source": [
        "#we find negative trend relationship between price and reviews.\n",
        "#so,if no. of reviews increase then prices will decrease."
      ],
      "metadata": {
        "id": "dB6CI1enMrdh"
      },
      "execution_count": 35,
      "outputs": []
    },
    {
      "cell_type": "code",
      "source": [
        "dataset.columns"
      ],
      "metadata": {
        "colab": {
          "base_uri": "https://localhost:8080/"
        },
        "id": "f9H8AqlhOCqv",
        "outputId": "1c7aa653-dc4d-4584-d013-23711f6e4ab1"
      },
      "execution_count": 36,
      "outputs": [
        {
          "output_type": "execute_result",
          "data": {
            "text/plain": [
              "Index(['room_id', 'survey_id', 'host_id', 'room_type', 'city', 'neighborhood',\n",
              "       'reviews', 'overall_satisfaction', 'accommodates', 'bedrooms', 'price',\n",
              "       'name', 'last_modified', 'latitude', 'longitude', 'location'],\n",
              "      dtype='object')"
            ]
          },
          "metadata": {},
          "execution_count": 36
        }
      ]
    },
    {
      "cell_type": "code",
      "source": [
        "df=dataset[['reviews', 'overall_satisfaction', 'accommodates', 'bedrooms', 'price']]\n",
        "correlation=df.corr()\n",
        "print(correlation)"
      ],
      "metadata": {
        "colab": {
          "base_uri": "https://localhost:8080/"
        },
        "id": "tZlkovCpNe2R",
        "outputId": "d6d131ae-8c73-4fbd-81e3-601e79bb9831"
      },
      "execution_count": 37,
      "outputs": [
        {
          "output_type": "stream",
          "name": "stdout",
          "text": [
            "                       reviews  overall_satisfaction  accommodates  bedrooms  \\\n",
            "reviews               1.000000              0.316649     -0.061713 -0.114480   \n",
            "overall_satisfaction  0.316649              1.000000     -0.054160 -0.087913   \n",
            "accommodates         -0.061713             -0.054160      1.000000  0.710973   \n",
            "bedrooms             -0.114480             -0.087913      0.710973  1.000000   \n",
            "price                -0.084839             -0.045055      0.500239  0.445950   \n",
            "\n",
            "                         price  \n",
            "reviews              -0.084839  \n",
            "overall_satisfaction -0.045055  \n",
            "accommodates          0.500239  \n",
            "bedrooms              0.445950  \n",
            "price                 1.000000  \n"
          ]
        }
      ]
    },
    {
      "cell_type": "code",
      "source": [
        "plt.figure(figsize=(12,8))\n",
        "sns.heatmap(correlation,cmap = 'BrBG', annot = True)\n",
        "plt.show()"
      ],
      "metadata": {
        "colab": {
          "base_uri": "https://localhost:8080/",
          "height": 488
        },
        "id": "hK1SbZWCNnnZ",
        "outputId": "5e904f2c-96f7-4081-ba70-90a100c556ca"
      },
      "execution_count": 38,
      "outputs": [
        {
          "output_type": "display_data",
          "data": {
            "text/plain": [
              "<Figure size 864x576 with 2 Axes>"
            ],
            "image/png": "[encoded data removed]"
          },
          "metadata": {
            "needs_background": "light"
          }
        }
      ]
    },
    {
      "cell_type": "code",
      "source": [
        "#above is a heatmap showing correlation between different attributes of the dataset."
      ],
      "metadata": {
        "id": "bBVGF5xmNxXb"
      },
      "execution_count": 39,
      "outputs": []
    },
    {
      "cell_type": "code",
      "source": [
        "#checking relationship between price and accomodates.\n",
        "plt.plot(dataset['accommodates'],dataset['price'],marker='o',c='brown',linewidth=0.5)\n",
        "plt.xlabel(\"Accomodates\")\n",
        "plt.ylabel(\"Price\")\n",
        "plt.title(\"Relationship between price and accomodates\")"
      ],
      "metadata": {
        "colab": {
          "base_uri": "https://localhost:8080/",
          "height": 313
        },
        "id": "r4eaqz6hN6q7",
        "outputId": "3dc831ab-a2bc-4367-f7ab-a81453fcf3da"
      },
      "execution_count": 40,
      "outputs": [
        {
          "output_type": "execute_result",
          "data": {
            "text/plain": [
              "Text(0.5, 1.0, 'Relationship between price and accomodates')"
            ]
          },
          "metadata": {},
          "execution_count": 40
        },
        {
          "output_type": "display_data",
          "data": {
            "text/plain": [
              "<Figure size 432x288 with 1 Axes>"
            ],
            "image/png": "[encoded data removed]"
          },
          "metadata": {
            "needs_background": "light"
          }
        }
      ]
    },
    {
      "cell_type": "code",
      "source": [
        "#finding correlation by Pearson coefficient.\n",
        "correlation,_=pearsonr(dataset['accommodates'],dataset['price'])\n",
        "print('Pearson correlation: %3f' % correlation)"
      ],
      "metadata": {
        "colab": {
          "base_uri": "https://localhost:8080/"
        },
        "id": "zWjqu_IJQrpg",
        "outputId": "f9c2bec8-d337-45a6-c047-739a514823a0"
      },
      "execution_count": 41,
      "outputs": [
        {
          "output_type": "stream",
          "name": "stdout",
          "text": [
            "Pearson correlation: 0.500239\n"
          ]
        }
      ]
    },
    {
      "cell_type": "code",
      "source": [
        "#from the above graph and correlation value we find that there is slightly positive\n",
        "#or weak positive correlation or relationship between price and accomodates.\n",
        "#if no. of accomodates increase then price will also increase."
      ],
      "metadata": {
        "id": "Bs4NM693RKyQ"
      },
      "execution_count": 42,
      "outputs": []
    },
    {
      "cell_type": "code",
      "source": [
        "#finding relationship between price and Overall Satisfaction\n",
        "plt.plot(dataset['overall_satisfaction'],dataset['price'],marker='o',c='purple',linewidth=0.5)\n",
        "plt.xlabel(\"Overall Satisfaction\")\n",
        "plt.ylabel(\"Price\")\n",
        "plt.title(\"Relationship between Price And Overall Satisfaction\")"
      ],
      "metadata": {
        "colab": {
          "base_uri": "https://localhost:8080/",
          "height": 313
        },
        "id": "5XLwmB-bR5rT",
        "outputId": "69b9a107-fb47-4c19-f731-94753390cd6d"
      },
      "execution_count": 43,
      "outputs": [
        {
          "output_type": "execute_result",
          "data": {
            "text/plain": [
              "Text(0.5, 1.0, 'Relationship between Price And Overall Satisfaction')"
            ]
          },
          "metadata": {},
          "execution_count": 43
        },
        {
          "output_type": "display_data",
          "data": {
            "text/plain": [
              "<Figure size 432x288 with 1 Axes>"
            ],
            "image/png": "[encoded data removed]"
          },
          "metadata": {
            "needs_background": "light"
          }
        }
      ]
    },
    {
      "cell_type": "code",
      "source": [
        "#correlation by Pearson correlation coefficient\n",
        "correlation,_=pearsonr(dataset['overall_satisfaction'],dataset['price'])\n",
        "print('Pearson Correlation: %3f' % correlation)"
      ],
      "metadata": {
        "colab": {
          "base_uri": "https://localhost:8080/"
        },
        "id": "8LiIDJNNSxB5",
        "outputId": "527df6d0-e58f-45c3-de2d-abf914f1be1c"
      },
      "execution_count": 44,
      "outputs": [
        {
          "output_type": "stream",
          "name": "stdout",
          "text": [
            "Pearson Correlation: -0.045055\n"
          ]
        }
      ]
    },
    {
      "cell_type": "code",
      "source": [
        "#from above graph and correlation value we see that there is negative linear\n",
        "#relationship between overall_satisfaction and price.\n",
        "#if overall satisfaction increases then price will decrease."
      ],
      "metadata": {
        "id": "FcmIhTg7TPy5"
      },
      "execution_count": 45,
      "outputs": []
    },
    {
      "cell_type": "code",
      "source": [
        "#dataset['bedrooms']"
      ],
      "metadata": {
        "id": "jB_wWlKdTq3n"
      },
      "execution_count": 46,
      "outputs": []
    },
    {
      "cell_type": "code",
      "source": [
        "#share of different bedroom values int total bedroom value.\n",
        "bedroom_count=dataset['bedrooms'].value_counts()\n",
        "Totalbedrooms=bedroom_count.sum()\n",
        "data={'Bedroom_values':bedroom_count.index.to_list(),'Share/Proportion':bedroom_count.to_list()}\n",
        "bedroom_count_df=pd.DataFrame(data)\n",
        "print(\"Total no. of Bedrooms available : \",Totalbedrooms)\n",
        "print(dataset.shape)"
      ],
      "metadata": {
        "colab": {
          "base_uri": "https://localhost:8080/"
        },
        "id": "kT8ENO_PT0R5",
        "outputId": "1510fcb4-444c-4ed3-a5cf-859dc23ab557"
      },
      "execution_count": 47,
      "outputs": [
        {
          "output_type": "stream",
          "name": "stdout",
          "text": [
            "Total no. of Bedrooms available :  18671\n",
            "(18671, 16)\n"
          ]
        }
      ]
    },
    {
      "cell_type": "code",
      "source": [
        "print(\"Each bedroom's share : \")\n",
        "bedroom_count_df"
      ],
      "metadata": {
        "colab": {
          "base_uri": "https://localhost:8080/",
          "height": 412
        },
        "id": "JsZmpjSXX6a9",
        "outputId": "a77089f2-d035-41bb-edc1-0fff95659e88"
      },
      "execution_count": 48,
      "outputs": [
        {
          "output_type": "stream",
          "name": "stdout",
          "text": [
            "Each bedroom's share : \n"
          ]
        },
        {
          "output_type": "execute_result",
          "data": {
            "text/plain": [
              "    Bedroom_values  Share/Proportion\n",
              "0              1.0             11068\n",
              "1              2.0              4446\n",
              "2              3.0              1442\n",
              "3              0.0              1148\n",
              "4              4.0               472\n",
              "5              5.0                62\n",
              "6              6.0                19\n",
              "7             10.0                 5\n",
              "8              7.0                 4\n",
              "9              8.0                 3\n",
              "10             9.0                 2"
            ],
            "text/html": [
              "\n",
              "  <div id=\"df-96ede313-67e0-431c-80b0-0235f2d15ec0\">\n",
              "    <div class=\"colab-df-container\">\n",
              "      <div>\n",
              "<style scoped>\n",
              "    .dataframe tbody tr th:only-of-type {\n",
              "        vertical-align: middle;\n",
              "    }\n",
              "\n",
              "    .dataframe tbody tr th {\n",
              "        vertical-align: top;\n",
              "    }\n",
              "\n",
              "    .dataframe thead th {\n",
              "        text-align: right;\n",
              "    }\n",
              "</style>\n",
              "<table border=\"1\" class=\"dataframe\">\n",
              "  <thead>\n",
              "    <tr style=\"text-align: right;\">\n",
              "      <th></th>\n",
              "      <th>Bedroom_values</th>\n",
              "      <th>Share/Proportion</th>\n",
              "    </tr>\n",
              "  </thead>\n",
              "  <tbody>\n",
              "    <tr>\n",
              "      <th>0</th>\n",
              "      <td>1.0</td>\n",
              "      <td>11068</td>\n",
              "    </tr>\n",
              "    <tr>\n",
              "      <th>1</th>\n",
              "      <td>2.0</td>\n",
              "      <td>4446</td>\n",
              "    </tr>\n",
              "    <tr>\n",
              "      <th>2</th>\n",
              "      <td>3.0</td>\n",
              "      <td>1442</td>\n",
              "    </tr>\n",
              "    <tr>\n",
              "      <th>3</th>\n",
              "      <td>0.0</td>\n",
              "      <td>1148</td>\n",
              "    </tr>\n",
              "    <tr>\n",
              "      <th>4</th>\n",
              "      <td>4.0</td>\n",
              "      <td>472</td>\n",
              "    </tr>\n",
              "    <tr>\n",
              "      <th>5</th>\n",
              "      <td>5.0</td>\n",
              "      <td>62</td>\n",
              "    </tr>\n",
              "    <tr>\n",
              "      <th>6</th>\n",
              "      <td>6.0</td>\n",
              "      <td>19</td>\n",
              "    </tr>\n",
              "    <tr>\n",
              "      <th>7</th>\n",
              "      <td>10.0</td>\n",
              "      <td>5</td>\n",
              "    </tr>\n",
              "    <tr>\n",
              "      <th>8</th>\n",
              "      <td>7.0</td>\n",
              "      <td>4</td>\n",
              "    </tr>\n",
              "    <tr>\n",
              "      <th>9</th>\n",
              "      <td>8.0</td>\n",
              "      <td>3</td>\n",
              "    </tr>\n",
              "    <tr>\n",
              "      <th>10</th>\n",
              "      <td>9.0</td>\n",
              "      <td>2</td>\n",
              "    </tr>\n",
              "  </tbody>\n",
              "</table>\n",
              "</div>\n",
              "      <button class=\"colab-df-convert\" onclick=\"convertToInteractive('df-96ede313-67e0-431c-80b0-0235f2d15ec0')\"\n",
              "              title=\"Convert this dataframe to an interactive table.\"\n",
              "              style=\"display:none;\">\n",
              "        \n",
              "  <svg xmlns=\"http://www.w3.org/2000/svg\" height=\"24px\"viewBox=\"0 0 24 24\"\n",
              "       width=\"24px\">\n",
              "    <path d=\"M0 0h24v24H0V0z\" fill=\"none\"/>\n",
              "    <path d=\"M18.56 5.44l.94 2.06.94-2.06 2.06-.94-2.06-.94-.94-2.06-.94 2.06-2.06.94zm-11 1L8.5 8.5l.94-2.06 2.06-.94-2.06-.94L8.5 2.5l-.94 2.06-2.06.94zm10 10l.94 2.06.94-2.06 2.06-.94-2.06-.94-.94-2.06-.94 2.06-2.06.94z\"/><path d=\"M17.41 7.96l-1.37-1.37c-.4-.4-.92-.59-1.43-.59-.52 0-1.04.2-1.43.59L10.3 9.45l-7.72 7.72c-.78.78-.78 2.05 0 2.83L4 21.41c.39.39.9.59 1.41.59.51 0 1.02-.2 1.41-.59l7.78-7.78 2.81-2.81c.8-.78.8-2.07 0-2.86zM5.41 20L4 18.59l7.72-7.72 1.47 1.35L5.41 20z\"/>\n",
              "  </svg>\n",
              "      </button>\n",
              "      \n",
              "  <style>\n",
              "    .colab-df-container {\n",
              "      display:flex;\n",
              "      flex-wrap:wrap;\n",
              "      gap: 12px;\n",
              "    }\n",
              "\n",
              "    .colab-df-convert {\n",
              "      background-color: #E8F0FE;\n",
              "      border: none;\n",
              "      border-radius: 50%;\n",
              "      cursor: pointer;\n",
              "      display: none;\n",
              "      fill: #1967D2;\n",
              "      height: 32px;\n",
              "      padding: 0 0 0 0;\n",
              "      width: 32px;\n",
              "    }\n",
              "\n",
              "    .colab-df-convert:hover {\n",
              "      background-color: #E2EBFA;\n",
              "      box-shadow: 0px 1px 2px rgba(60, 64, 67, 0.3), 0px 1px 3px 1px rgba(60, 64, 67, 0.15);\n",
              "      fill: #174EA6;\n",
              "    }\n",
              "\n",
              "    [theme=dark] .colab-df-convert {\n",
              "      background-color: #3B4455;\n",
              "      fill: #D2E3FC;\n",
              "    }\n",
              "\n",
              "    [theme=dark] .colab-df-convert:hover {\n",
              "      background-color: #434B5C;\n",
              "      box-shadow: 0px 1px 3px 1px rgba(0, 0, 0, 0.15);\n",
              "      filter: drop-shadow(0px 1px 2px rgba(0, 0, 0, 0.3));\n",
              "      fill: #FFFFFF;\n",
              "    }\n",
              "  </style>\n",
              "\n",
              "      <script>\n",
              "        const buttonEl =\n",
              "          document.querySelector('#df-96ede313-67e0-431c-80b0-0235f2d15ec0 button.colab-df-convert');\n",
              "        buttonEl.style.display =\n",
              "          google.colab.kernel.accessAllowed ? 'block' : 'none';\n",
              "\n",
              "        async function convertToInteractive(key) {\n",
              "          const element = document.querySelector('#df-96ede313-67e0-431c-80b0-0235f2d15ec0');\n",
              "          const dataTable =\n",
              "            await google.colab.kernel.invokeFunction('convertToInteractive',\n",
              "                                                     [key], {});\n",
              "          if (!dataTable) return;\n",
              "\n",
              "          const docLinkHtml = 'Like what you see? Visit the ' +\n",
              "            '<a target=\"_blank\" href=https://colab.research.google.com/notebooks/data_table.ipynb>data table notebook</a>'\n",
              "            + ' to learn more about interactive tables.';\n",
              "          element.innerHTML = '';\n",
              "          dataTable['output_type'] = 'display_data';\n",
              "          await google.colab.output.renderOutput(dataTable, element);\n",
              "          const docLink = document.createElement('div');\n",
              "          docLink.innerHTML = docLinkHtml;\n",
              "          element.appendChild(docLink);\n",
              "        }\n",
              "      </script>\n",
              "    </div>\n",
              "  </div>\n",
              "  "
            ]
          },
          "metadata": {},
          "execution_count": 48
        }
      ]
    },
    {
      "cell_type": "code",
      "source": [
        "sizes=bedroom_count.to_list()\n",
        "labels=bedroom_count.index.to_list()\n",
        "plt.bar(labels,sizes,width=0.5,color='green')\n",
        "plt.xlabel(\"Bedroom Values\")\n",
        "plt.ylabel(\"Share\")\n",
        "plt.title(\"Proportion of the bedroom values in overall bedroom values\")\n",
        "plt.show()"
      ],
      "metadata": {
        "colab": {
          "base_uri": "https://localhost:8080/",
          "height": 295
        },
        "id": "2hVw3yMRYvjg",
        "outputId": "5a53430c-710c-4b50-ebea-8d66c58381f0"
      },
      "execution_count": 49,
      "outputs": [
        {
          "output_type": "display_data",
          "data": {
            "text/plain": [
              "<Figure size 432x288 with 1 Axes>"
            ],
            "image/png": "[encoded data removed]"
          },
          "metadata": {
            "needs_background": "light"
          }
        }
      ]
    },
    {
      "cell_type": "code",
      "source": [
        "#It is clear from graph above that bedroom values 1 and 2 have the most share in overall bedroom values."
      ],
      "metadata": {
        "id": "HJNqMQIiZeGi"
      },
      "execution_count": 50,
      "outputs": []
    },
    {
      "cell_type": "code",
      "source": [
        "#Histogram plot of reviews column.\n",
        "fig=plt.figure(figsize=[20,10])\n",
        "plt.hist('reviews',bins=20,range=(1,100),data=dataset,color='purple')\n",
        "plt.title(\"Histogram for Reviews Column\")"
      ],
      "metadata": {
        "colab": {
          "base_uri": "https://localhost:8080/",
          "height": 625
        },
        "id": "P-vqew0nZvWr",
        "outputId": "117cd93b-c9d8-44f1-9185-6f8e5e606370"
      },
      "execution_count": 51,
      "outputs": [
        {
          "output_type": "execute_result",
          "data": {
            "text/plain": [
              "Text(0.5, 1.0, 'Histogram for Reviews Column')"
            ]
          },
          "metadata": {},
          "execution_count": 51
        },
        {
          "output_type": "display_data",
          "data": {
            "text/plain": [
              "<Figure size 1440x720 with 1 Axes>"
            ],
            "image/png": "[encoded data removed]"
          },
          "metadata": {
            "needs_background": "light"
          }
        }
      ]
    },
    {
      "cell_type": "code",
      "source": [
        "#Histogram plot of overall_satisfaction column.\n",
        "fig=plt.figure(figsize=[30,15])\n",
        "plt.hist('overall_satisfaction',bins=10,data=dataset,color='green')\n",
        "plt.title('Histogram for Overall_Satisfaction Column')"
      ],
      "metadata": {
        "colab": {
          "base_uri": "https://localhost:8080/",
          "height": 676
        },
        "id": "ptb-VRr0aa99",
        "outputId": "85670065-cce6-4136-ea0d-70fa6c0a739f"
      },
      "execution_count": 52,
      "outputs": [
        {
          "output_type": "execute_result",
          "data": {
            "text/plain": [
              "Text(0.5, 1.0, 'Histogram for Overall_Satisfaction Column')"
            ]
          },
          "metadata": {},
          "execution_count": 52
        },
        {
          "output_type": "display_data",
          "data": {
            "text/plain": [
              "<Figure size 2160x1080 with 1 Axes>"
            ],
            "image/png": "[encoded data removed]"
          },
          "metadata": {
            "needs_background": "light"
          }
        }
      ]
    },
    {
      "cell_type": "code",
      "source": [],
      "metadata": {
        "id": "wJRISNAFbAxp"
      },
      "execution_count": 52,
      "outputs": []
    }
  ]
}